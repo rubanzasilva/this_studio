{
 "cells": [
  {
   "cell_type": "code",
   "execution_count": 2,
   "metadata": {},
   "outputs": [
    {
     "name": "stdout",
     "output_type": "stream",
     "text": [
      "4\n"
     ]
    }
   ],
   "source": [
    "import os\n",
    "CPU_COUNT = os.cpu_count()\n",
    "n_jobs = CPU_COUNT\n",
    "print(n_jobs) "
   ]
  },
  {
   "cell_type": "code",
   "execution_count": 1,
   "metadata": {},
   "outputs": [
    {
     "name": "stdout",
     "output_type": "stream",
     "text": [
      "Requirement already satisfied: pip in /home/rubanza/mambaforge/lib/python3.10/site-packages (24.2)\n",
      "Collecting pip\n",
      "  Downloading pip-24.3.1-py3-none-any.whl.metadata (3.7 kB)\n",
      "Downloading pip-24.3.1-py3-none-any.whl (1.8 MB)\n",
      "\u001b[2K   \u001b[90m━━━━━━━━━━━━━━━━━━━━━━━━━━━━━━━━━━━━━━━━\u001b[0m \u001b[32m1.8/1.8 MB\u001b[0m \u001b[31m1.4 MB/s\u001b[0m eta \u001b[36m0:00:00\u001b[0ma \u001b[36m0:00:01\u001b[0m\n",
      "\u001b[?25hInstalling collected packages: pip\n",
      "  Attempting uninstall: pip\n",
      "    Found existing installation: pip 24.2\n",
      "    Uninstalling pip-24.2:\n",
      "      Successfully uninstalled pip-24.2\n",
      "Successfully installed pip-24.3.1\n",
      "Note: you may need to restart the kernel to use updated packages.\n",
      "Requirement already satisfied: catboost in /home/rubanza/mambaforge/lib/python3.10/site-packages (1.2.5)\n",
      "Requirement already satisfied: graphviz in /home/rubanza/mambaforge/lib/python3.10/site-packages (from catboost) (0.20.1)\n",
      "Requirement already satisfied: matplotlib in /home/rubanza/mambaforge/lib/python3.10/site-packages (from catboost) (3.8.2)\n",
      "Requirement already satisfied: numpy>=1.16.0 in /home/rubanza/mambaforge/lib/python3.10/site-packages (from catboost) (1.26.3)\n",
      "Requirement already satisfied: pandas>=0.24 in /home/rubanza/mambaforge/lib/python3.10/site-packages (from catboost) (2.2.0)\n",
      "Requirement already satisfied: scipy in /home/rubanza/mambaforge/lib/python3.10/site-packages (from catboost) (1.12.0)\n",
      "Requirement already satisfied: plotly in /home/rubanza/mambaforge/lib/python3.10/site-packages (from catboost) (5.24.0)\n",
      "Requirement already satisfied: six in /home/rubanza/mambaforge/lib/python3.10/site-packages (from catboost) (1.16.0)\n",
      "Requirement already satisfied: python-dateutil>=2.8.2 in /home/rubanza/mambaforge/lib/python3.10/site-packages (from pandas>=0.24->catboost) (2.8.2)\n",
      "Requirement already satisfied: pytz>=2020.1 in /home/rubanza/mambaforge/lib/python3.10/site-packages (from pandas>=0.24->catboost) (2024.1)\n",
      "Requirement already satisfied: tzdata>=2022.7 in /home/rubanza/mambaforge/lib/python3.10/site-packages (from pandas>=0.24->catboost) (2023.4)\n",
      "Requirement already satisfied: contourpy>=1.0.1 in /home/rubanza/mambaforge/lib/python3.10/site-packages (from matplotlib->catboost) (1.2.0)\n",
      "Requirement already satisfied: cycler>=0.10 in /home/rubanza/mambaforge/lib/python3.10/site-packages (from matplotlib->catboost) (0.12.1)\n",
      "Requirement already satisfied: fonttools>=4.22.0 in /home/rubanza/mambaforge/lib/python3.10/site-packages (from matplotlib->catboost) (4.47.2)\n",
      "Requirement already satisfied: kiwisolver>=1.3.1 in /home/rubanza/mambaforge/lib/python3.10/site-packages (from matplotlib->catboost) (1.4.5)\n",
      "Requirement already satisfied: packaging>=20.0 in /home/rubanza/mambaforge/lib/python3.10/site-packages (from matplotlib->catboost) (23.2)\n",
      "Requirement already satisfied: pillow>=8 in /home/rubanza/mambaforge/lib/python3.10/site-packages (from matplotlib->catboost) (10.2.0)\n",
      "Requirement already satisfied: pyparsing>=2.3.1 in /home/rubanza/mambaforge/lib/python3.10/site-packages (from matplotlib->catboost) (3.1.1)\n",
      "Requirement already satisfied: tenacity>=6.2.0 in /home/rubanza/mambaforge/lib/python3.10/site-packages (from plotly->catboost) (9.0.0)\n",
      "Note: you may need to restart the kernel to use updated packages.\n",
      "Requirement already satisfied: optuna in /home/rubanza/mambaforge/lib/python3.10/site-packages (3.6.1)\n",
      "Requirement already satisfied: alembic>=1.5.0 in /home/rubanza/mambaforge/lib/python3.10/site-packages (from optuna) (1.13.2)\n",
      "Requirement already satisfied: colorlog in /home/rubanza/mambaforge/lib/python3.10/site-packages (from optuna) (6.8.2)\n",
      "Requirement already satisfied: numpy in /home/rubanza/mambaforge/lib/python3.10/site-packages (from optuna) (1.26.3)\n",
      "Requirement already satisfied: packaging>=20.0 in /home/rubanza/mambaforge/lib/python3.10/site-packages (from optuna) (23.2)\n",
      "Requirement already satisfied: sqlalchemy>=1.3.0 in /home/rubanza/mambaforge/lib/python3.10/site-packages (from optuna) (2.0.32)\n",
      "Requirement already satisfied: tqdm in /home/rubanza/mambaforge/lib/python3.10/site-packages (from optuna) (4.66.1)\n",
      "Requirement already satisfied: PyYAML in /home/rubanza/mambaforge/lib/python3.10/site-packages (from optuna) (6.0.1)\n",
      "Requirement already satisfied: Mako in /home/rubanza/mambaforge/lib/python3.10/site-packages (from alembic>=1.5.0->optuna) (1.3.5)\n",
      "Requirement already satisfied: typing-extensions>=4 in /home/rubanza/mambaforge/lib/python3.10/site-packages (from alembic>=1.5.0->optuna) (4.9.0)\n",
      "Requirement already satisfied: greenlet!=0.4.17 in /home/rubanza/mambaforge/lib/python3.10/site-packages (from sqlalchemy>=1.3.0->optuna) (3.0.3)\n",
      "Requirement already satisfied: MarkupSafe>=0.9.2 in /home/rubanza/mambaforge/lib/python3.10/site-packages (from Mako->alembic>=1.5.0->optuna) (2.1.5)\n",
      "Note: you may need to restart the kernel to use updated packages.\n",
      "Requirement already satisfied: seaborn in /home/rubanza/mambaforge/lib/python3.10/site-packages (0.13.2)\n",
      "Requirement already satisfied: numpy!=1.24.0,>=1.20 in /home/rubanza/mambaforge/lib/python3.10/site-packages (from seaborn) (1.26.3)\n",
      "Requirement already satisfied: pandas>=1.2 in /home/rubanza/mambaforge/lib/python3.10/site-packages (from seaborn) (2.2.0)\n",
      "Requirement already satisfied: matplotlib!=3.6.1,>=3.4 in /home/rubanza/mambaforge/lib/python3.10/site-packages (from seaborn) (3.8.2)\n",
      "Requirement already satisfied: contourpy>=1.0.1 in /home/rubanza/mambaforge/lib/python3.10/site-packages (from matplotlib!=3.6.1,>=3.4->seaborn) (1.2.0)\n",
      "Requirement already satisfied: cycler>=0.10 in /home/rubanza/mambaforge/lib/python3.10/site-packages (from matplotlib!=3.6.1,>=3.4->seaborn) (0.12.1)\n",
      "Requirement already satisfied: fonttools>=4.22.0 in /home/rubanza/mambaforge/lib/python3.10/site-packages (from matplotlib!=3.6.1,>=3.4->seaborn) (4.47.2)\n",
      "Requirement already satisfied: kiwisolver>=1.3.1 in /home/rubanza/mambaforge/lib/python3.10/site-packages (from matplotlib!=3.6.1,>=3.4->seaborn) (1.4.5)\n",
      "Requirement already satisfied: packaging>=20.0 in /home/rubanza/mambaforge/lib/python3.10/site-packages (from matplotlib!=3.6.1,>=3.4->seaborn) (23.2)\n",
      "Requirement already satisfied: pillow>=8 in /home/rubanza/mambaforge/lib/python3.10/site-packages (from matplotlib!=3.6.1,>=3.4->seaborn) (10.2.0)\n",
      "Requirement already satisfied: pyparsing>=2.3.1 in /home/rubanza/mambaforge/lib/python3.10/site-packages (from matplotlib!=3.6.1,>=3.4->seaborn) (3.1.1)\n",
      "Requirement already satisfied: python-dateutil>=2.7 in /home/rubanza/mambaforge/lib/python3.10/site-packages (from matplotlib!=3.6.1,>=3.4->seaborn) (2.8.2)\n",
      "Requirement already satisfied: pytz>=2020.1 in /home/rubanza/mambaforge/lib/python3.10/site-packages (from pandas>=1.2->seaborn) (2024.1)\n",
      "Requirement already satisfied: tzdata>=2022.7 in /home/rubanza/mambaforge/lib/python3.10/site-packages (from pandas>=1.2->seaborn) (2023.4)\n",
      "Requirement already satisfied: six>=1.5 in /home/rubanza/mambaforge/lib/python3.10/site-packages (from python-dateutil>=2.7->matplotlib!=3.6.1,>=3.4->seaborn) (1.16.0)\n",
      "Note: you may need to restart the kernel to use updated packages.\n",
      "Requirement already satisfied: xgboost in /home/rubanza/mambaforge/lib/python3.10/site-packages (2.1.1)\n",
      "Requirement already satisfied: numpy in /home/rubanza/mambaforge/lib/python3.10/site-packages (from xgboost) (1.26.3)\n",
      "Requirement already satisfied: nvidia-nccl-cu12 in /home/rubanza/mambaforge/lib/python3.10/site-packages (from xgboost) (2.22.3)\n",
      "Requirement already satisfied: scipy in /home/rubanza/mambaforge/lib/python3.10/site-packages (from xgboost) (1.12.0)\n",
      "Note: you may need to restart the kernel to use updated packages.\n",
      "Requirement already satisfied: lightgbm in /home/rubanza/mambaforge/lib/python3.10/site-packages (4.5.0)\n",
      "Requirement already satisfied: numpy>=1.17.0 in /home/rubanza/mambaforge/lib/python3.10/site-packages (from lightgbm) (1.26.3)\n",
      "Requirement already satisfied: scipy in /home/rubanza/mambaforge/lib/python3.10/site-packages (from lightgbm) (1.12.0)\n",
      "Note: you may need to restart the kernel to use updated packages.\n",
      "Requirement already satisfied: fastkaggle in /home/rubanza/mambaforge/lib/python3.10/site-packages (0.0.8)\n",
      "Requirement already satisfied: fastcore>=1.4.5 in /home/rubanza/mambaforge/lib/python3.10/site-packages (from fastkaggle) (1.5.29)\n",
      "Requirement already satisfied: kaggle in /home/rubanza/mambaforge/lib/python3.10/site-packages (from fastkaggle) (1.5.16)\n",
      "Requirement already satisfied: pip in /home/rubanza/mambaforge/lib/python3.10/site-packages (from fastcore>=1.4.5->fastkaggle) (24.3.1)\n",
      "Requirement already satisfied: packaging in /home/rubanza/mambaforge/lib/python3.10/site-packages (from fastcore>=1.4.5->fastkaggle) (23.2)\n",
      "Requirement already satisfied: six>=1.10 in /home/rubanza/mambaforge/lib/python3.10/site-packages (from kaggle->fastkaggle) (1.16.0)\n",
      "Requirement already satisfied: certifi in /home/rubanza/mambaforge/lib/python3.10/site-packages (from kaggle->fastkaggle) (2023.11.17)\n",
      "Requirement already satisfied: python-dateutil in /home/rubanza/mambaforge/lib/python3.10/site-packages (from kaggle->fastkaggle) (2.8.2)\n",
      "Requirement already satisfied: requests in /home/rubanza/mambaforge/lib/python3.10/site-packages (from kaggle->fastkaggle) (2.31.0)\n",
      "Requirement already satisfied: tqdm in /home/rubanza/mambaforge/lib/python3.10/site-packages (from kaggle->fastkaggle) (4.66.1)\n",
      "Requirement already satisfied: python-slugify in /home/rubanza/mambaforge/lib/python3.10/site-packages (from kaggle->fastkaggle) (8.0.1)\n",
      "Requirement already satisfied: urllib3 in /home/rubanza/mambaforge/lib/python3.10/site-packages (from kaggle->fastkaggle) (2.2.2)\n",
      "Requirement already satisfied: bleach in /home/rubanza/mambaforge/lib/python3.10/site-packages (from kaggle->fastkaggle) (6.1.0)\n",
      "Requirement already satisfied: webencodings in /home/rubanza/mambaforge/lib/python3.10/site-packages (from bleach->kaggle->fastkaggle) (0.5.1)\n",
      "Requirement already satisfied: text-unidecode>=1.3 in /home/rubanza/mambaforge/lib/python3.10/site-packages (from python-slugify->kaggle->fastkaggle) (1.3)\n",
      "Requirement already satisfied: charset-normalizer<4,>=2 in /home/rubanza/mambaforge/lib/python3.10/site-packages (from requests->kaggle->fastkaggle) (3.3.2)\n",
      "Requirement already satisfied: idna<4,>=2.5 in /home/rubanza/mambaforge/lib/python3.10/site-packages (from requests->kaggle->fastkaggle) (3.6)\n",
      "Note: you may need to restart the kernel to use updated packages.\n",
      "\u001b[31mERROR: pip's dependency resolver does not currently take into account all the packages that are installed. This behaviour is the source of the following dependency conflicts.\n",
      "questionary 2.0.1 requires prompt_toolkit<=3.0.36,>=2.0, but you have prompt-toolkit 3.0.48 which is incompatible.\u001b[0m\u001b[31m\n",
      "\u001b[0mNote: you may need to restart the kernel to use updated packages.\n",
      "Requirement already satisfied: tqdm in /home/rubanza/mambaforge/lib/python3.10/site-packages (4.66.1)\n",
      "Note: you may need to restart the kernel to use updated packages.\n",
      "CPU times: user 1.71 s, sys: 658 ms, total: 2.36 s\n",
      "Wall time: 53.4 s\n"
     ]
    }
   ],
   "source": [
    "%%time\n",
    "%pip install --upgrade pip\n",
    "%pip install catboost\n",
    "%pip install optuna\n",
    "#%pip install optuna_distributed\n",
    "#%pip install openfe\n",
    "%pip install seaborn\n",
    "%pip install xgboost\n",
    "%pip install lightgbm\n",
    "%pip install fastkaggle\n",
    "#%pip install h2o\n",
    "%pip install -Uqq fastbook\n",
    "#%pip install polars\n",
    "#%pip install -q -U autogluon.tabular\n",
    "#%pip install autogluon\n",
    "%pip install tqdm\n"
   ]
  },
  {
   "cell_type": "code",
   "execution_count": 2,
   "metadata": {},
   "outputs": [
    {
     "name": "stdout",
     "output_type": "stream",
     "text": [
      "Note: you may need to restart the kernel to use updated packages.\n"
     ]
    }
   ],
   "source": [
    "pip freeze > requirements.txt"
   ]
  },
  {
   "cell_type": "markdown",
   "metadata": {},
   "source": []
  }
 ],
 "metadata": {
  "kernelspec": {
   "display_name": "base",
   "language": "python",
   "name": "python3"
  },
  "language_info": {
   "codemirror_mode": {
    "name": "ipython",
    "version": 3
   },
   "file_extension": ".py",
   "mimetype": "text/x-python",
   "name": "python",
   "nbconvert_exporter": "python",
   "pygments_lexer": "ipython3",
   "version": "3.10.12"
  }
 },
 "nbformat": 4,
 "nbformat_minor": 2
}
